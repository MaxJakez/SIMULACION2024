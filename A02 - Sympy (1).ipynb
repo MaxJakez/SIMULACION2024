{
  "metadata": {
    "kernelspec": {
      "name": "python",
      "display_name": "Python (Pyodide)",
      "language": "python"
    },
    "language_info": {
      "codemirror_mode": {
        "name": "python",
        "version": 3
      },
      "file_extension": ".py",
      "mimetype": "text/x-python",
      "name": "python",
      "nbconvert_exporter": "python",
      "pygments_lexer": "ipython3",
      "version": "3.8"
    }
  },
  "nbformat_minor": 4,
  "nbformat": 4,
  "cells": [
    {
      "cell_type": "markdown",
      "source": "Maximiliano Jakez Salazar\n**IC719815**\n29 de Enero de 2024",
      "metadata": {}
    },
    {
      "cell_type": "markdown",
      "source": "# Ejercicios de optimización escalar",
      "metadata": {}
    },
    {
      "cell_type": "markdown",
      "source": "**Para la siguientes funciones encuentre los puntos críticos, grafique y diga si éste se trata de un máximo o mínimo, local o global.**",
      "metadata": {}
    },
    {
      "cell_type": "markdown",
      "source": "$f(x)=1260+117x-9x^2$",
      "metadata": {}
    },
    {
      "cell_type": "code",
      "source": "import sympy as sp\nx = sp.var(\"x\")\n\ndef f(x) :\n    return 1260+117*x-9*x**2\n\nf(x)",
      "metadata": {
        "trusted": true
      },
      "outputs": [
        {
          "execution_count": 6,
          "output_type": "execute_result",
          "data": {
            "text/plain": "-9*x**2 + 117*x + 1260",
            "text/latex": "$\\displaystyle - 9 x^{2} + 117 x + 1260$"
          },
          "metadata": {}
        }
      ],
      "execution_count": 6
    },
    {
      "cell_type": "code",
      "source": "dy = sp.diff(f(x), x)\ndy",
      "metadata": {
        "trusted": true
      },
      "outputs": [
        {
          "execution_count": 7,
          "output_type": "execute_result",
          "data": {
            "text/plain": "117 - 18*x",
            "text/latex": "$\\displaystyle 117 - 18 x$"
          },
          "metadata": {}
        }
      ],
      "execution_count": 7
    },
    {
      "cell_type": "code",
      "source": "pc = sp.solve(dy, x)\npc",
      "metadata": {
        "trusted": true
      },
      "outputs": [
        {
          "execution_count": 8,
          "output_type": "execute_result",
          "data": {
            "text/plain": "[13/2]"
          },
          "metadata": {}
        }
      ],
      "execution_count": 8
    },
    {
      "cell_type": "code",
      "source": "import numpy as np\nimport matplotlib.pyplot as plt\n%matplotlib inline\n\nx_n = np.linspace(-15, 15, 100) # recibo start, stop, puntos\ny_n = f(x_n)\nplt.figure(figsize=(3, 3))\nplt.plot(x_n, y_n)\nplt.grid()\nplt.legend(loc=\"best\")",
      "metadata": {
        "trusted": true
      },
      "outputs": [
        {
          "name": "stderr",
          "text": "No artists with labels found to put in legend.  Note that artists whose label start with an underscore are ignored when legend() is called with no argument.\n",
          "output_type": "stream"
        },
        {
          "execution_count": 15,
          "output_type": "execute_result",
          "data": {
            "text/plain": "<matplotlib.legend.Legend at 0x61b4ea8>"
          },
          "metadata": {}
        },
        {
          "output_type": "display_data",
          "data": {
            "text/plain": "<Figure size 300x300 with 1 Axes>",
            "image/png": "[encoded data removed]"
          },
          "metadata": {}
        }
      ],
      "execution_count": 15
    },
    {
      "cell_type": "markdown",
      "source": "**El punto crítico encontrado es un máximo global**",
      "metadata": {}
    },
    {
      "cell_type": "markdown",
      "source": "$f(x)=5+x+\\frac{4}{x}$, para $x>0$",
      "metadata": {}
    },
    {
      "cell_type": "code",
      "source": "import sympy as sp\nx = sp.var(\"x\")\n\ndef f(x) :\n    return 5 + x + 4/x\n\nf(x)",
      "metadata": {
        "trusted": true
      },
      "outputs": [
        {
          "execution_count": 24,
          "output_type": "execute_result",
          "data": {
            "text/plain": "x + 5 + 4/x",
            "text/latex": "$\\displaystyle x + 5 + \\frac{4}{x}$"
          },
          "metadata": {}
        }
      ],
      "execution_count": 24
    },
    {
      "cell_type": "code",
      "source": "dy = sp.diff(f(x), x)\ndy",
      "metadata": {
        "trusted": true
      },
      "outputs": [
        {
          "execution_count": 25,
          "output_type": "execute_result",
          "data": {
            "text/plain": "1 - 4/x**2",
            "text/latex": "$\\displaystyle 1 - \\frac{4}{x^{2}}$"
          },
          "metadata": {}
        }
      ],
      "execution_count": 25
    },
    {
      "cell_type": "code",
      "source": "pc = sp.solve(dy, x)\npc",
      "metadata": {
        "trusted": true
      },
      "outputs": [
        {
          "execution_count": 26,
          "output_type": "execute_result",
          "data": {
            "text/plain": "[-2, 2]"
          },
          "metadata": {}
        }
      ],
      "execution_count": 26
    },
    {
      "cell_type": "code",
      "source": "import numpy as np\nimport matplotlib.pyplot as plt\n%matplotlib inline\n\nx_n = np.linspace(0.1, 5, 100) \ny_n = f(x_n)\nplt.figure(figsize=(3, 3))\nplt.plot(x_n, y_n)\nplt.grid()\nplt.legend(loc=\"best\")",
      "metadata": {
        "trusted": true
      },
      "outputs": [
        {
          "name": "stderr",
          "text": "No artists with labels found to put in legend.  Note that artists whose label start with an underscore are ignored when legend() is called with no argument.\n",
          "output_type": "stream"
        },
        {
          "execution_count": 29,
          "output_type": "execute_result",
          "data": {
            "text/plain": "<matplotlib.legend.Legend at 0x6634598>"
          },
          "metadata": {}
        },
        {
          "output_type": "display_data",
          "data": {
            "text/plain": "<Figure size 300x300 with 1 Axes>",
            "image/png": "[encoded data removed]"
          },
          "metadata": {}
        }
      ],
      "execution_count": 29
    },
    {
      "cell_type": "markdown",
      "source": "**El único punto crítico existente es 2.**",
      "metadata": {}
    },
    {
      "cell_type": "markdown",
      "source": "$f(x)=6-2x+\\sqrt{18-2x^2}$, para $-3\\leq x\\leq 3$",
      "metadata": {}
    },
    {
      "cell_type": "code",
      "source": "import sympy as sp\nx = sp.var(\"x\")\n\ndef f(x) : \n    return 6-2*x + (18-2*x**2)**(1/2)\n\nf(x)",
      "metadata": {
        "trusted": true
      },
      "outputs": [
        {
          "execution_count": 33,
          "output_type": "execute_result",
          "data": {
            "text/plain": "-2*x + (18 - 2*x**2)**0.5 + 6",
            "text/latex": "$\\displaystyle - 2 x + \\left(18 - 2 x^{2}\\right)^{0.5} + 6$"
          },
          "metadata": {}
        }
      ],
      "execution_count": 33
    },
    {
      "cell_type": "code",
      "source": "dy = sp.diff(f(x), x)\ndy",
      "metadata": {
        "trusted": true
      },
      "outputs": [
        {
          "execution_count": 34,
          "output_type": "execute_result",
          "data": {
            "text/plain": "-2.0*x/(18 - 2*x**2)**0.5 - 2",
            "text/latex": "$\\displaystyle - \\frac{2.0 x}{\\left(18 - 2 x^{2}\\right)^{0.5}} - 2$"
          },
          "metadata": {}
        }
      ],
      "execution_count": 34
    },
    {
      "cell_type": "code",
      "source": "pc = sp.solve(dy, x)\npc",
      "metadata": {
        "trusted": true
      },
      "outputs": [
        {
          "execution_count": 35,
          "output_type": "execute_result",
          "data": {
            "text/plain": "[-2.44948974278318]"
          },
          "metadata": {}
        }
      ],
      "execution_count": 35
    },
    {
      "cell_type": "code",
      "source": "import numpy as np\nimport matplotlib.pyplot as plt\n%matplotlib inline\n\nx_n = np.linspace(-10, 10, 100) \ny_n = f(x_n)\nplt.figure(figsize=(3, 3))\nplt.plot(x_n, y_n)\nplt.grid()\nplt.legend(loc=\"best\")",
      "metadata": {
        "trusted": true
      },
      "outputs": [
        {
          "name": "stderr",
          "text": "No artists with labels found to put in legend.  Note that artists whose label start with an underscore are ignored when legend() is called with no argument.\n",
          "output_type": "stream"
        },
        {
          "execution_count": 38,
          "output_type": "execute_result",
          "data": {
            "text/plain": "<matplotlib.legend.Legend at 0x6804c48>"
          },
          "metadata": {}
        },
        {
          "output_type": "display_data",
          "data": {
            "text/plain": "<Figure size 300x300 with 1 Axes>",
            "image/png": "[encoded data removed]"
          },
          "metadata": {}
        }
      ],
      "execution_count": 38
    },
    {
      "cell_type": "markdown",
      "source": "**El punto crítico máximo es -2**",
      "metadata": {}
    },
    {
      "cell_type": "markdown",
      "source": "$f(x)=\\frac{1}{4}x^4+\\frac{1}{3}x^3-x^2$ en el intervalo $[-3,1.7]$",
      "metadata": {}
    },
    {
      "cell_type": "code",
      "source": "import sympy as sp\nx = sp.var(\"x\")\n\ndef f(x) : \n    return 1/4*x**4 + 1/3*x**3 - x**2\n\nf(x)",
      "metadata": {
        "trusted": true
      },
      "outputs": [
        {
          "execution_count": 39,
          "output_type": "execute_result",
          "data": {
            "text/plain": "0.25*x**4 + 0.333333333333333*x**3 - x**2",
            "text/latex": "$\\displaystyle 0.25 x^{4} + 0.333333333333333 x^{3} - x^{2}$"
          },
          "metadata": {}
        }
      ],
      "execution_count": 39
    },
    {
      "cell_type": "code",
      "source": "dy = sp.diff(f(x), x)\ndy",
      "metadata": {
        "trusted": true
      },
      "outputs": [
        {
          "execution_count": 40,
          "output_type": "execute_result",
          "data": {
            "text/plain": "1.0*x**3 + 1.0*x**2 - 2*x",
            "text/latex": "$\\displaystyle 1.0 x^{3} + 1.0 x^{2} - 2 x$"
          },
          "metadata": {}
        }
      ],
      "execution_count": 40
    },
    {
      "cell_type": "code",
      "source": "pc = sp.solve(dy, x)\npc",
      "metadata": {
        "trusted": true
      },
      "outputs": [
        {
          "execution_count": 41,
          "output_type": "execute_result",
          "data": {
            "text/plain": "[-2.00000000000000, 0.0, 1.00000000000000]"
          },
          "metadata": {}
        }
      ],
      "execution_count": 41
    },
    {
      "cell_type": "code",
      "source": "import numpy as np\nimport matplotlib.pyplot as plt\n%matplotlib inline\n\nx_n = np.linspace(-3, 1.7, 100) \ny_n = f(x_n)\nplt.figure(figsize=(3, 3))\nplt.plot(x_n, y_n)\nplt.grid()\nplt.legend(loc=\"best\")",
      "metadata": {
        "trusted": true
      },
      "outputs": [
        {
          "name": "stderr",
          "text": "No artists with labels found to put in legend.  Note that artists whose label start with an underscore are ignored when legend() is called with no argument.\n",
          "output_type": "stream"
        },
        {
          "execution_count": 44,
          "output_type": "execute_result",
          "data": {
            "text/plain": "<matplotlib.legend.Legend at 0x6a61088>"
          },
          "metadata": {}
        },
        {
          "output_type": "display_data",
          "data": {
            "text/plain": "<Figure size 300x300 with 1 Axes>",
            "image/png": "[encoded data removed]"
          },
          "metadata": {}
        }
      ],
      "execution_count": 44
    },
    {
      "cell_type": "markdown",
      "source": "**En el intérvalo de [-2, 1.7] encontramos un mínimo global en -2 y máximo local en 0**",
      "metadata": {}
    },
    {
      "cell_type": "markdown",
      "source": "---\n**Resuelva los siguientes problemas usando la librería `SymPy`. Use celdas en `Markdown` para explicar su procedimiento.**",
      "metadata": {}
    },
    {
      "cell_type": "markdown",
      "source": "El perímetro de un triángulo isósceles es de $10 cm$. ¿Cuánto deben medir sus lados para que el volumen del cuerpo generado por la rotación del triángulo en torno a su base sea el mayor posible? (Volumen de un cono $= \\frac{1}{3}\\pi r^2 h$, donde $r$ es el radio de la base y $h$ la altura del cono).",
      "metadata": {}
    },
    {
      "cell_type": "markdown",
      "source": "$ l $ - lado\n$ b $ - base\n$ r $ - radio\n$ h $ - altura\n$ V $ - volumen\n",
      "metadata": {}
    },
    {
      "cell_type": "code",
      "source": "",
      "metadata": {},
      "outputs": [],
      "execution_count": null
    },
    {
      "cell_type": "code",
      "source": "",
      "metadata": {},
      "outputs": [],
      "execution_count": null
    },
    {
      "cell_type": "code",
      "source": "import sympy as sp\n\nl = sp.var (\"l\")\nb = sp.var(\"b\")\nr = sp.var(\"r\")\nh = sp.var(\"h\")\n\ndef V(r, h) :\n    return sp.pi*r**2*h/3\n\nV(r, h)\n",
      "metadata": {
        "trusted": true
      },
      "outputs": [
        {
          "execution_count": 5,
          "output_type": "execute_result",
          "data": {
            "text/plain": "pi*h*r**2/3",
            "text/latex": "$\\displaystyle \\frac{\\pi h r^{2}}{3}$"
          },
          "metadata": {}
        }
      ],
      "execution_count": 5
    },
    {
      "cell_type": "code",
      "source": "restriccion = b + 2*1 - 10\nradio = r - b/2\npitagoras = l**2 - h**2",
      "metadata": {
        "trusted": true
      },
      "outputs": [],
      "execution_count": 9
    },
    {
      "cell_type": "code",
      "source": "altura = sp.solve(pitagoras, h)[1]\naltura",
      "metadata": {
        "trusted": true
      },
      "outputs": [
        {
          "execution_count": 11,
          "output_type": "execute_result",
          "data": {
            "text/plain": "l",
            "text/latex": "$\\displaystyle l$"
          },
          "metadata": {}
        }
      ],
      "execution_count": 11
    },
    {
      "cell_type": "code",
      "source": "V(r, h)",
      "metadata": {
        "trusted": true,
        "scrolled": true
      },
      "outputs": [
        {
          "execution_count": 12,
          "output_type": "execute_result",
          "data": {
            "text/plain": "pi*h*r**2/3",
            "text/latex": "$\\displaystyle \\frac{\\pi h r^{2}}{3}$"
          },
          "metadata": {}
        }
      ],
      "execution_count": 12
    },
    {
      "cell_type": "code",
      "source": "V_lb = V(r, h).subs(h, altura) .subs(r.radio)\nV_lb",
      "metadata": {
        "trusted": true
      },
      "outputs": [
        {
          "ename": "<class 'AttributeError'>",
          "evalue": "'Symbol' object has no attribute 'radio'",
          "traceback": [
            "\u001b[0;31m---------------------------------------------------------------------------\u001b[0m",
            "\u001b[0;31mAttributeError\u001b[0m                            Traceback (most recent call last)",
            "Cell \u001b[0;32mIn[15], line 1\u001b[0m\n\u001b[0;32m----> 1\u001b[0m V_lb \u001b[38;5;241m=\u001b[39m V(r, h)\u001b[38;5;241m.\u001b[39msubs(h, altura) \u001b[38;5;241m.\u001b[39msubs(\u001b[43mr\u001b[49m\u001b[38;5;241;43m.\u001b[39;49m\u001b[43mradio\u001b[49m)\n\u001b[1;32m      2\u001b[0m V_lb\n",
            "\u001b[0;31mAttributeError\u001b[0m: 'Symbol' object has no attribute 'radio'"
          ],
          "output_type": "error"
        }
      ],
      "execution_count": 15
    },
    {
      "cell_type": "code",
      "source": "",
      "metadata": {
        "trusted": true
      },
      "outputs": [],
      "execution_count": null
    },
    {
      "cell_type": "code",
      "source": "",
      "metadata": {
        "trusted": true
      },
      "outputs": [],
      "execution_count": null
    },
    {
      "cell_type": "code",
      "source": "",
      "metadata": {
        "trusted": true
      },
      "outputs": [],
      "execution_count": null
    },
    {
      "cell_type": "code",
      "source": "",
      "metadata": {
        "trusted": true
      },
      "outputs": [],
      "execution_count": null
    },
    {
      "cell_type": "markdown",
      "source": "Disponemos de una barra de aluminio de 6 metros para construir una portería de fútbol. Si queremos que el área de la portería sea máxima, ¿cuánto deben medir los postes y el travesaño?",
      "metadata": {}
    },
    {
      "cell_type": "code",
      "source": "x = sp.var(\"x\")\ny = sp.var(\"y\")\n\ndef A(x, y) :\n    return x*y\n\nrestriccion = x + 2*y - 6\n",
      "metadata": {
        "trusted": true
      },
      "outputs": [],
      "execution_count": 16
    },
    {
      "cell_type": "code",
      "source": "x_y = sp.solve(restriccion, x)[0]\nx_y",
      "metadata": {
        "trusted": true
      },
      "outputs": [
        {
          "execution_count": 17,
          "output_type": "execute_result",
          "data": {
            "text/plain": "6 - 2*y",
            "text/latex": "$\\displaystyle 6 - 2 y$"
          },
          "metadata": {}
        }
      ],
      "execution_count": 17
    },
    {
      "cell_type": "code",
      "source": "A_y = A(x, y).subs(x, x_y)\nA_y",
      "metadata": {
        "trusted": true
      },
      "outputs": [
        {
          "execution_count": 18,
          "output_type": "execute_result",
          "data": {
            "text/plain": "y*(6 - 2*y)",
            "text/latex": "$\\displaystyle y \\left(6 - 2 y\\right)$"
          },
          "metadata": {}
        }
      ],
      "execution_count": 18
    },
    {
      "cell_type": "code",
      "source": "dA = sp.diff(A_y, y)\ndA",
      "metadata": {
        "trusted": true
      },
      "outputs": [
        {
          "execution_count": 19,
          "output_type": "execute_result",
          "data": {
            "text/plain": "6 - 4*y",
            "text/latex": "$\\displaystyle 6 - 4 y$"
          },
          "metadata": {}
        }
      ],
      "execution_count": 19
    },
    {
      "cell_type": "code",
      "source": "sp.solve(dA, y)[0]",
      "metadata": {
        "trusted": true
      },
      "outputs": [
        {
          "execution_count": 20,
          "output_type": "execute_result",
          "data": {
            "text/plain": "3/2",
            "text/latex": "$\\displaystyle \\frac{3}{2}$"
          },
          "metadata": {}
        }
      ],
      "execution_count": 20
    },
    {
      "cell_type": "markdown",
      "source": "Los postes deben medir $ 1.5 $ cada uno",
      "metadata": {}
    },
    {
      "cell_type": "code",
      "source": "x_y.subs(y, 1.5)",
      "metadata": {
        "trusted": true
      },
      "outputs": [
        {
          "execution_count": 22,
          "output_type": "execute_result",
          "data": {
            "text/plain": "3.00000000000000",
            "text/latex": "$\\displaystyle 3.0$"
          },
          "metadata": {}
        }
      ],
      "execution_count": 22
    },
    {
      "cell_type": "markdown",
      "source": " El travesaño debe medir *3m*.",
      "metadata": {}
    },
    {
      "cell_type": "code",
      "source": "",
      "metadata": {
        "trusted": true
      },
      "outputs": [],
      "execution_count": null
    }
  ]
}